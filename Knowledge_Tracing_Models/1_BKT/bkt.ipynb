{
 "cells": [
  {
   "cell_type": "markdown",
   "id": "d6c64205",
   "metadata": {},
   "source": [
    "# Bayesian Knowledge Tracing (BKT)"
   ]
  },
  {
   "cell_type": "markdown",
   "id": "169bc581",
   "metadata": {},
   "source": [
    "In this notebook we implement, train, validate, and test a **Bayesian Knowledge Tracing** model following the paper called *Knowledge Tracing: Modeling the Acquisition of Procedural Knowledge* Corbett & Anderson (1995). This paper proposes a model to predict the probability of a student answering a question correctly based on their previous interactions with similar questions. The model is based on the idea that students learn over time and that their knowledge can be represented as a hidden state."
   ]
  },
  {
   "cell_type": "markdown",
   "id": "a01a229d",
   "metadata": {},
   "source": [
    "**Outline:**\n",
    "1. **Introduction**: What is BKT and why use it?\n",
    "2. **Load** preprocessed train/val/test splits.\n",
    "3. **Define** a *BayesianKnowledgeTracing* class implementing the four BKT parameters.\n",
    "4. **Train** per‐skill models by simple grid‐search on validation accuracy.\n",
    "5. **Evaluate** the best parameters on the test set.\n",
    "6. **Analyze** per‐skill performance and learning curves.\n",
    "7. **Visualize Accuracy by Skill**\n",
    "8. **Example Learning Curve for a Single Skill**\n",
    "9. **Conclusion**: Summary of findings and future work.\n"
   ]
  },
  {
   "cell_type": "markdown",
   "id": "94ad2a87",
   "metadata": {},
   "source": [
    "## 1. Introduction\n",
    "Bayesian Knowledge Tracing (BKT) is a probabilistic model used to estimate a student's knowledge state over time as they interact with educational content. The model is based on the idea that a student's knowledge can be represented as a hidden state, which evolves over time as they learn from their interactions with questions and feedback.\n",
    "The BKT model is particularly useful in educational settings, where it can be used to predict a student's performance on future questions based on their past interactions. The model is based on the following four parameters:\n",
    "- **P(L0)**: The initial probability that a student knows the skill before they start answering questions.\n",
    "- **P(T)**: The probability that a student will go from \"not knowing the skill\" to \"knowing the skill\" in one attempt.\n",
    "- **P(G)**: The probability that a student guesses the answer correctly to a question.\n",
    "- **P(S)**: The probability that a student slips and answers a question incorrectly even if they know the skill.<br>\n",
    "\n",
    "The BKT model uses these parameters to estimate the probability that a student will answer a question correctly based on their previous interactions with similar questions. The model is trained on historical data, and the parameters are estimated using maximum likelihood estimation (MLE) or Bayesian inference.\n",
    "The BKT model is a powerful tool for predicting student performance and can be used to personalize learning experiences, identify at-risk students, and improve educational outcomes."
   ]
  },
  {
   "cell_type": "markdown",
   "id": "3858e3ce",
   "metadata": {},
   "source": [
    "## 2. Imports & Data Loading"
   ]
  },
  {
   "cell_type": "markdown",
   "id": "c1095313",
   "metadata": {},
   "source": [
    "We import necessary libraries and load the preprocessed data."
   ]
  },
  {
   "cell_type": "code",
   "execution_count": 1,
   "id": "fee59bb6",
   "metadata": {},
   "outputs": [],
   "source": [
    "import pandas as pd\n",
    "import numpy as np\n",
    "import itertools\n",
    "import matplotlib.pyplot as plt\n",
    "import seaborn as sns\n",
    "import os\n",
    "\n",
    "# Paths to training, validation, and test data\n",
    "data_path = os.path.join(\"..\", \"..\", \"Data_Preprocessing\", \"data\", \"splits\")\n",
    "train_df = pd.read_parquet(os.path.join(data_path, \"train.parquet\"))\n",
    "val_df   = pd.read_parquet(os.path.join(data_path, \"val.parquet\"))\n",
    "test_df  = pd.read_parquet(os.path.join(data_path, \"test.parquet\"))\n",
    "# Path to the questions data\n",
    "data_path = os.path.join(\"..\", \"..\", \"Data_Preprocessing\", \"data\")\n",
    "questions_df = pd.read_parquet(os.path.join(data_path, \"questions_clean.parquet\"))\n"
   ]
  },
  {
   "cell_type": "markdown",
   "id": "047b40a9",
   "metadata": {},
   "source": [
    "### Inspect Key Columns"
   ]
  },
  {
   "cell_type": "markdown",
   "id": "32002b28",
   "metadata": {},
   "source": [
    "We ensure each DataFrame has *user_id*, *general_cat*, *correct* (0/1)."
   ]
  },
  {
   "cell_type": "code",
   "execution_count": 2,
   "id": "a54a6f6a",
   "metadata": {},
   "outputs": [
    {
     "name": "stdout",
     "output_type": "stream",
     "text": [
      "train unique users: 2466 unique skills: 10\n",
      "==================================================\n",
      "DataFrame train:\n"
     ]
    },
    {
     "data": {
      "text/html": [
       "<div>\n",
       "<style scoped>\n",
       "    .dataframe tbody tr th:only-of-type {\n",
       "        vertical-align: middle;\n",
       "    }\n",
       "\n",
       "    .dataframe tbody tr th {\n",
       "        vertical-align: top;\n",
       "    }\n",
       "\n",
       "    .dataframe thead th {\n",
       "        text-align: right;\n",
       "    }\n",
       "</style>\n",
       "<table border=\"1\" class=\"dataframe\">\n",
       "  <thead>\n",
       "    <tr style=\"text-align: right;\">\n",
       "      <th></th>\n",
       "      <th>user_id</th>\n",
       "      <th>general_cat</th>\n",
       "      <th>correct</th>\n",
       "    </tr>\n",
       "  </thead>\n",
       "  <tbody>\n",
       "    <tr>\n",
       "      <th>0</th>\n",
       "      <td>235</td>\n",
       "      <td>C</td>\n",
       "      <td>1</td>\n",
       "    </tr>\n",
       "    <tr>\n",
       "      <th>1</th>\n",
       "      <td>235</td>\n",
       "      <td>C</td>\n",
       "      <td>0</td>\n",
       "    </tr>\n",
       "    <tr>\n",
       "      <th>2</th>\n",
       "      <td>235</td>\n",
       "      <td>C</td>\n",
       "      <td>0</td>\n",
       "    </tr>\n",
       "    <tr>\n",
       "      <th>3</th>\n",
       "      <td>235</td>\n",
       "      <td>C</td>\n",
       "      <td>1</td>\n",
       "    </tr>\n",
       "    <tr>\n",
       "      <th>4</th>\n",
       "      <td>235</td>\n",
       "      <td>C</td>\n",
       "      <td>0</td>\n",
       "    </tr>\n",
       "  </tbody>\n",
       "</table>\n",
       "</div>"
      ],
      "text/plain": [
       "   user_id general_cat  correct\n",
       "0      235           C        1\n",
       "1      235           C        0\n",
       "2      235           C        0\n",
       "3      235           C        1\n",
       "4      235           C        0"
      ]
     },
     "metadata": {},
     "output_type": "display_data"
    },
    {
     "name": "stdout",
     "output_type": "stream",
     "text": [
      "val unique users: 529 unique skills: 10\n",
      "==================================================\n",
      "DataFrame val:\n"
     ]
    },
    {
     "data": {
      "text/html": [
       "<div>\n",
       "<style scoped>\n",
       "    .dataframe tbody tr th:only-of-type {\n",
       "        vertical-align: middle;\n",
       "    }\n",
       "\n",
       "    .dataframe tbody tr th {\n",
       "        vertical-align: top;\n",
       "    }\n",
       "\n",
       "    .dataframe thead th {\n",
       "        text-align: right;\n",
       "    }\n",
       "</style>\n",
       "<table border=\"1\" class=\"dataframe\">\n",
       "  <thead>\n",
       "    <tr style=\"text-align: right;\">\n",
       "      <th></th>\n",
       "      <th>user_id</th>\n",
       "      <th>general_cat</th>\n",
       "      <th>correct</th>\n",
       "    </tr>\n",
       "  </thead>\n",
       "  <tbody>\n",
       "    <tr>\n",
       "      <th>0</th>\n",
       "      <td>362</td>\n",
       "      <td>C</td>\n",
       "      <td>1</td>\n",
       "    </tr>\n",
       "    <tr>\n",
       "      <th>1</th>\n",
       "      <td>362</td>\n",
       "      <td>C</td>\n",
       "      <td>1</td>\n",
       "    </tr>\n",
       "    <tr>\n",
       "      <th>2</th>\n",
       "      <td>362</td>\n",
       "      <td>C</td>\n",
       "      <td>1</td>\n",
       "    </tr>\n",
       "    <tr>\n",
       "      <th>3</th>\n",
       "      <td>362</td>\n",
       "      <td>C</td>\n",
       "      <td>1</td>\n",
       "    </tr>\n",
       "    <tr>\n",
       "      <th>4</th>\n",
       "      <td>362</td>\n",
       "      <td>C</td>\n",
       "      <td>1</td>\n",
       "    </tr>\n",
       "  </tbody>\n",
       "</table>\n",
       "</div>"
      ],
      "text/plain": [
       "   user_id general_cat  correct\n",
       "0      362           C        1\n",
       "1      362           C        1\n",
       "2      362           C        1\n",
       "3      362           C        1\n",
       "4      362           C        1"
      ]
     },
     "metadata": {},
     "output_type": "display_data"
    },
    {
     "name": "stdout",
     "output_type": "stream",
     "text": [
      "test unique users: 529 unique skills: 10\n",
      "==================================================\n",
      "DataFrame test:\n"
     ]
    },
    {
     "data": {
      "text/html": [
       "<div>\n",
       "<style scoped>\n",
       "    .dataframe tbody tr th:only-of-type {\n",
       "        vertical-align: middle;\n",
       "    }\n",
       "\n",
       "    .dataframe tbody tr th {\n",
       "        vertical-align: top;\n",
       "    }\n",
       "\n",
       "    .dataframe thead th {\n",
       "        text-align: right;\n",
       "    }\n",
       "</style>\n",
       "<table border=\"1\" class=\"dataframe\">\n",
       "  <thead>\n",
       "    <tr style=\"text-align: right;\">\n",
       "      <th></th>\n",
       "      <th>user_id</th>\n",
       "      <th>general_cat</th>\n",
       "      <th>correct</th>\n",
       "    </tr>\n",
       "  </thead>\n",
       "  <tbody>\n",
       "    <tr>\n",
       "      <th>0</th>\n",
       "      <td>360</td>\n",
       "      <td>C</td>\n",
       "      <td>1</td>\n",
       "    </tr>\n",
       "    <tr>\n",
       "      <th>1</th>\n",
       "      <td>360</td>\n",
       "      <td>C</td>\n",
       "      <td>1</td>\n",
       "    </tr>\n",
       "    <tr>\n",
       "      <th>2</th>\n",
       "      <td>360</td>\n",
       "      <td>C</td>\n",
       "      <td>1</td>\n",
       "    </tr>\n",
       "    <tr>\n",
       "      <th>3</th>\n",
       "      <td>360</td>\n",
       "      <td>C</td>\n",
       "      <td>0</td>\n",
       "    </tr>\n",
       "    <tr>\n",
       "      <th>4</th>\n",
       "      <td>360</td>\n",
       "      <td>C</td>\n",
       "      <td>1</td>\n",
       "    </tr>\n",
       "  </tbody>\n",
       "</table>\n",
       "</div>"
      ],
      "text/plain": [
       "   user_id general_cat  correct\n",
       "0      360           C        1\n",
       "1      360           C        1\n",
       "2      360           C        1\n",
       "3      360           C        0\n",
       "4      360           C        1"
      ]
     },
     "metadata": {},
     "output_type": "display_data"
    }
   ],
   "source": [
    "# We load only the necessary columns of questions_df\n",
    "q_meta = questions_df[['id', 'general_cat']].rename(columns={'id':'question_id'})\n",
    "\n",
    "for name, df in [('train', train_df), ('val', val_df), ('test', test_df)]:\n",
    "    # Spot merge to \"bring in\" general_cat\n",
    "    df_cat = df.merge(q_meta, on='question_id', how='left')\n",
    "\n",
    "    print(name, \"unique users:\", df_cat['user_id'].nunique(), \"unique skills:\", df_cat['general_cat'].nunique())\n",
    "    assert {'user_id','general_cat','correct'}.issubset(df_cat.columns)\n",
    "    df_cat['correct'] = df_cat['correct'].astype(int)\n",
    "    print(50 * \"=\")\n",
    "    print(f\"DataFrame {name}:\")\n",
    "    # We display the first few rows of the merged DataFrame with only the columns of interest\n",
    "    display(df_cat[['user_id', 'general_cat', 'correct']].head())\n"
   ]
  },
  {
   "cell_type": "markdown",
   "id": "d960e272",
   "metadata": {},
   "source": [
    "## 3. Define BKT Class"
   ]
  },
  {
   "cell_type": "markdown",
   "id": "7ab09937",
   "metadata": {},
   "source": [
    "We implement the four parameters:\n",
    "- **p_L0**: prior probability student already knows the skill\n",
    "- **p_T**: learning (transition) probability each opportunity\n",
    "- **p_S**: slip probability (error despite knowing)\n",
    "- **p_G**: guess probability (correct despite not knowing)\n"
   ]
  },
  {
   "cell_type": "markdown",
   "id": "70b6f0c8",
   "metadata": {},
   "source": [
    "and the following methods:\n",
    "- *update(correct)* applies Bayes + transition.  \n",
    "- *predict_prob_correct()* gives P(correct|current state)."
   ]
  },
  {
   "cell_type": "markdown",
   "id": "a12ba309",
   "metadata": {},
   "source": [
    "The update method updates the probability of knowing the skill based on the response of the student. The response is a boolean value indicating whether the student answered correctly (True) or incorrectly (False). The update is done using Bayes' theorem and the parameters of the BKT model.\n",
    "First the probability of a correct answer and the probability of an incorrect answer are calculated based on the current state of the model:\n",
    "- p(Correct) = p(L) * (1 - p(S)) + (1 - p(L)) * p(G)\n",
    "- p(Incorrect) = p(L) * p(S) + (1 - p(L)) * (1 - p(G))\n",
    "\n",
    "Then, the model updates the probability of knowing the skill based on the response:\n",
    "- If the response is correct, the model updates the probability of knowing the skill using Bayes' theorem:\n",
    "  - p(L|Correct) = p(Correct|L) * p(L) / p(Correct)\n",
    "- If the response is incorrect, the model updates the probability of knowing the skill using Bayes' theorem:\n",
    "  - p(L|Incorrect) = p(Incorrect|L) * p(L) / p(Incorrect)\n",
    "\n",
    "Finally, the model applies the transition probability to update the probability of knowing the skill:\n",
    "- p(L) = p(L|Correct) * (1 - p(T)) + (1 - p(L|Correct)) * p(T) for correct responses\n",
    "- p(L) = p(L|Incorrect) * (1 - p(T)) + (1 - p(L|Incorrect)) * p(T) for incorrect responses\n",
    "\n",
    "The transition probability is applied to the probability of knowing the skill, which is updated based on the response. The transition probability is used to model the fact that the probability of knowing the skill may change over time, and it is applied to the probability of knowing the skill after each response.\n"
   ]
  },
  {
   "cell_type": "markdown",
   "id": "24ab488e",
   "metadata": {},
   "source": [
    "While one could directly apply the equations mentioned above differentiating the case where the answer is correct or incorrect, we chose to implement an update method that applies Bayes and the transition jointly.<br>\n",
    "By applying the transition jointly, the need to calculate the correct and incorrect answer probabilities separately is avoided, which simplifies the code and above all, although they are equivalent implementations in theory, in floating-point computation the differences in grouping and subtraction versus addition generate slight variations in the values of *p_L* after many iterations. In the end, this minimal change in each update is reflected in a different validation accuracy (best_acc), although both models follow the BKT scheme."
   ]
  },
  {
   "cell_type": "code",
   "execution_count": 3,
   "id": "40257601",
   "metadata": {},
   "outputs": [],
   "source": [
    "class BayesianKnowledgeTracing:\n",
    "    \"\"\"\n",
    "    This class implements the BKT model, which is a probabilistic model used to estimate a student's mastery of a skill\n",
    "    based on their performance over time.\n",
    "    \"\"\"\n",
    "    def __init__(self, p_L0, p_T, p_S, p_G):\n",
    "        \"\"\"\n",
    "        This method initializes the BKT model with the given parameters.\n",
    "        Args:\n",
    "            p_L0 (float): Initial probability of the student knowing the skill.\n",
    "            p_T (float): Probability of transitioning from not knowing to knowing the skill.\n",
    "            p_S (float): Probability of slipping (answering incorrectly when knowing).\n",
    "            p_G (float): Probability of guessing (answering correctly when not knowing).\n",
    "        \"\"\"\n",
    "        # Initial probability of knowing the skill\n",
    "        self.p_L0 = p_L0\n",
    "        # transition probability\n",
    "        self.p_T = p_T\n",
    "        # slip probability\n",
    "        self.p_S = p_S\n",
    "        # guess probability\n",
    "        self.p_G = p_G\n",
    "        # probability of knowing the skill\n",
    "        self.p_L = p_L0\n",
    "        # history of the probability of knowing the skill\n",
    "        self.history = []\n",
    "\n",
    "    def update(self, response: bool):\n",
    "        \"\"\"\n",
    "        This method updates the probability of knowing the skill based on the response of the student.\n",
    "        Args:\n",
    "            self.p_L (float): The probability of knowing the skill.\n",
    "        \"\"\"\n",
    "        if response:\n",
    "            # Probability of responding correctly given the current state of knowledge\n",
    "            # P(correct | knowing) = 1 - P(slip)\n",
    "            p_C_given_L = 1 - self.p_S\n",
    "            # P(correct | not knowing) = P(guess)\n",
    "            p_C_given_notL = self.p_G\n",
    "        else:\n",
    "            # Probability of responding incorrectly given the current state of knowledge\n",
    "            # P(incorrect | knowing) = P(slip)\n",
    "            p_C_given_L = self.p_S\n",
    "            # P(incorrect | not knowing) = 1 - P(guess)\n",
    "            p_C_given_notL = 1 - self.p_G\n",
    "        \n",
    "        # Update the probability of knowing the skill using Bayes' theorem\n",
    "        # P(knowing | response) = P(incorrect | knowing) * P(knowing) / (P(incorrect | knowing) * P(knowing) + P(incorrect | not knowing) * (1 - P(knowing)))\n",
    "        numerator = p_C_given_L * self.p_L\n",
    "        denominator = numerator + p_C_given_notL * (1 - self.p_L)\n",
    "        p_L_res = numerator / denominator if denominator > 0 else 0\n",
    "\n",
    "        # Update the probability of knowing the skill\n",
    "        # P(knowing) = P(knowing | response) + (1 - P(knowing | response)) * P(transition)\n",
    "        self.p_L = p_L_res + (1 - p_L_res) * self.p_T\n",
    "\n",
    "        # Append the current probability to the history\n",
    "        self.history.append(self.p_L)\n",
    "\n",
    "        return self.p_L\n",
    "\n",
    "    def predict_prob_correct(self):\n",
    "        \"\"\" This method predicts the probability of answering correctly based on the current state of the model.\n",
    "        Returns:\n",
    "            float: Probability of answering correctly.\n",
    "        \"\"\"\n",
    "        # p(Correct) = p(L) * (1 - p(S)) + (1 - p(L)) * p(G)\n",
    "        p_Correct = self.p_L * (1 - self.p_S) + (1 - self.p_L) * self.p_G\n",
    "        return p_Correct\n"
   ]
  },
  {
   "cell_type": "markdown",
   "id": "a56bd308",
   "metadata": {},
   "source": [
    "## 4. Organize Data by Skill (*general_cat*) & Student"
   ]
  },
  {
   "cell_type": "markdown",
   "id": "be63e3f5",
   "metadata": {},
   "source": [
    "We need, for each combination *(skill, user_id)*, the chronological sequence of answers (*correct*). To do this, we group the data by *general_cat* and *user_id*, sort by *start_time*, and create a list of answers for each combination. We also create a dictionary to map each skill to its corresponding index in the list of skills."
   ]
  },
  {
   "cell_type": "code",
   "execution_count": 4,
   "id": "2f595096",
   "metadata": {},
   "outputs": [
    {
     "name": "stdout",
     "output_type": "stream",
     "text": [
      "Skills: ['C', 'Databases & ORM', 'DevOps & Tools', 'Javascript', 'Math & Stats', 'Networking & API', 'Programming & Basics', 'Python', 'Shell', 'Web & Front-end']\n",
      "Sequences for a skill example: [[1, 0, 0, 1, 0, 0, 0, 0, 1, 0, 1, 0, 0, 1, 0, 0, 0, 0, 0, 0, 0, 0, 0, 0, 0, 1, 0, 0, 0, 0, 0, 0, 0, 0, 1, 0, 0, 1, 0, 1, 0, 0, 1, 1, 0, 0, 0, 0, 0, 0, 0, 0, 0, 0, 0, 0, 0, 0, 0, 0, 1, 0, 0, 0, 0, 0, 0, 0, 1, 0, 0, 0, 0, 0], [1, 0, 0, 1, 0, 1, 1, 0, 1, 0, 1, 1, 0, 0, 1, 1, 0, 0, 1, 0, 0, 0, 0, 0, 0, 1, 0, 1, 0, 1, 0, 0, 0, 1, 0, 0, 0, 0, 1, 0, 1, 1, 1, 0, 1, 1, 0, 0, 1, 0, 1, 1, 1, 1, 0, 1, 1, 1, 0, 1, 1, 0, 1, 1, 1, 0, 1, 1, 1, 1, 1, 0, 1, 1]]\n"
     ]
    }
   ],
   "source": [
    "# First, we merge general_cat in each split. 'general_cat' represents the more general category of the question.\n",
    "# We will use it to group the questions into skills.\n",
    "q_meta = questions_df[['id','general_cat']].rename(columns={'id':'question_id'})\n",
    "\n",
    "def attach_skill(df):\n",
    "    df2 = df.merge(q_meta, on='question_id', how='left')\n",
    "    # Drop records with no skill (if any) and sort by date\n",
    "    return df2[df2['general_cat'].notna()].sort_values('start_time')\n",
    "\n",
    "train_df = attach_skill(train_df)\n",
    "val_df   = attach_skill(val_df)\n",
    "test_df  = attach_skill(test_df)\n",
    "\n",
    "# Now we group in dictionaries: { skill: [ [seq_user1], [seq_user2], ... ] }\n",
    "def get_skill_sequences(df):\n",
    "    seqs = {}\n",
    "    for (skill, uid), grp in df.groupby(['general_cat','user_id']):\n",
    "        seq = grp.sort_values('start_time')['correct'].astype(int).tolist()\n",
    "        seqs.setdefault(skill, []).append(seq)\n",
    "    return seqs\n",
    "\n",
    "train_seqs = get_skill_sequences(train_df)\n",
    "val_seqs   = get_skill_sequences(val_df)\n",
    "test_seqs  = get_skill_sequences(test_df)\n",
    "\n",
    "print(\"Skills:\", list(train_seqs.keys()))\n",
    "print(\"Sequences for a skill example:\", train_seqs[next(iter(train_seqs))][:2])\n"
   ]
  },
  {
   "cell_type": "markdown",
   "id": "deb75208",
   "metadata": {},
   "source": [
    "## 5. Grid‐Search per Skill"
   ]
  },
  {
   "cell_type": "markdown",
   "id": "987b7f17",
   "metadata": {},
   "source": [
    "We search for the best **(p_L0, p_T, p_S, p_G)** that maximize the validation accuracy for each *general_cat*."
   ]
  },
  {
   "cell_type": "code",
   "execution_count": 5,
   "id": "dcf23ddf",
   "metadata": {},
   "outputs": [
    {
     "name": "stdout",
     "output_type": "stream",
     "text": [
      "Skill=C: Train LL=-118327.45 | Val LL=-25093.97 | Params=(0.5, 0.01, 0.4, 0.2)\n",
      "Skill=Databases & ORM: Train LL=-13214.07 | Val LL=-2860.22 | Params=(0.30000000000000004, 0.07, 0.3, 0.2)\n",
      "Skill=DevOps & Tools: Train LL=-5632.23 | Val LL=-1237.79 | Params=(0.2, 0.030000000000000006, 0.6, 0.8)\n",
      "Skill=Javascript: Train LL=-7680.60 | Val LL=-1615.80 | Params=(0.5, 0.04000000000000001, 0.3, 0.2)\n",
      "Skill=Math & Stats: Train LL=-13912.16 | Val LL=-3044.17 | Params=(0.1, 0.030000000000000006, 0.6, 0.8)\n",
      "Skill=Networking & API: Train LL=-10151.59 | Val LL=-2219.95 | Params=(0.1, 0.01, 0.7, 0.8)\n",
      "Skill=Programming & Basics: Train LL=-19611.39 | Val LL=-4290.59 | Params=(0.30000000000000004, 0.05000000000000001, 0.3, 0.30000000000000004)\n",
      "Skill=Python: Train LL=-31879.66 | Val LL=-6863.25 | Params=(0.30000000000000004, 0.05000000000000001, 0.2, 0.30000000000000004)\n",
      "Skill=Shell: Train LL=-21284.22 | Val LL=-4644.75 | Params=(0.5, 0.08, 0.2, 0.5)\n",
      "Skill=Web & Front-end: Train LL=-12975.81 | Val LL=-2662.27 | Params=(0.7000000000000001, 0.01, 0.2, 0.4)\n"
     ]
    }
   ],
   "source": [
    "# We build a dictionary with each parameter of BKT. Each parameter has a range of values to test.\n",
    "param_grid = {\n",
    "    'p_L0': np.linspace(0.1, 0.9, 9),\n",
    "    'p_T':  np.linspace(0.01, 0.1, 10),\n",
    "    'p_S':  np.linspace(0.1, 0.7, 7),\n",
    "    'p_G':  np.linspace(0.1, 0.9, 9),\n",
    "}\n",
    "\n",
    "best_params = {}\n",
    "for skill, train_list in train_seqs.items():\n",
    "    val_list = val_seqs.get(skill, [])\n",
    "    if not val_list: continue\n",
    "    \n",
    "    best_ll = -np.inf\n",
    "    best_p = None\n",
    "\n",
    "    # Step 1: Parameter search ONLY in training\n",
    "    for p_L0, p_T, p_S, p_G in itertools.product(*param_grid.values()):\n",
    "        # Calculate log-likelihood in TRAIN\n",
    "        log_likelihood = 0\n",
    "        for seq in train_list:  # We use training data for estimation\n",
    "            model = BayesianKnowledgeTracing(p_L0, p_T, p_S, p_G)\n",
    "            for correct in seq:\n",
    "                p_pred = model.predict_prob_correct()\n",
    "                log_likelihood += np.log(p_pred if correct else (1 - p_pred))\n",
    "                model.update(correct)\n",
    "        \n",
    "        if log_likelihood > best_ll:\n",
    "            best_ll, best_p = log_likelihood, (p_L0, p_T, p_S, p_G)\n",
    "    \n",
    "    # Step 2: Validate the best model in VAL (optional, to monitor overfitting)\n",
    "    val_ll = 0\n",
    "    p_L0, p_T, p_S, p_G = best_p\n",
    "    for seq in val_list:\n",
    "        model = BayesianKnowledgeTracing(p_L0, p_T, p_S, p_G)\n",
    "        for correct in seq:\n",
    "            p_pred = model.predict_prob_correct()\n",
    "            val_ll += np.log(p_pred if correct else (1 - p_pred))\n",
    "            model.update(correct)\n",
    "    \n",
    "    best_params[skill] = best_p\n",
    "    print(f\"Skill={skill}: Train LL={best_ll:.2f} | Val LL={val_ll:.2f} | Params={best_p}\")"
   ]
  },
  {
   "cell_type": "markdown",
   "id": "928debb9",
   "metadata": {},
   "source": [
    "A grid search was chosen instead of a random search because the search space is small and can be fully explored. In addition, the grid search allows a better interpretation of the results and the identification of patterns in the optimal parameters for each skill. In this case, the grid search was performed with a range of discrete values for each parameter, which facilitates the comparison between different combinations of parameters and their impact on the accuracy of the model.\n",
    "In turn, log-likelihood was used as an evaluation metric, since it is a commonly used measure in probabilistic models and allows the quality of the model fit to the observed data to be evaluated. Log-likelihood is calculated as the sum of the logarithms of the probabilities of the observed responses given the model predictions, which provides a measure of how well the model fits the data.\n",
    "Finally, the best parameters for each skill were chosen as a function of log-likelihood, as this allows us to identify the combination of parameters that maximizes the probability of observing the data given the model, which is a common approach in parameter estimation in probabilistic models."
   ]
  },
  {
   "cell_type": "markdown",
   "id": "36437261",
   "metadata": {},
   "source": [
    "Finally, we save the best parameters for each skill in a dictionary for later use in the evaluation phase:"
   ]
  },
  {
   "cell_type": "code",
   "execution_count": 6,
   "id": "f7be636d",
   "metadata": {},
   "outputs": [],
   "source": [
    "import os\n",
    "\n",
    "# We save the best parameters for each skill in a CSV file.\n",
    "best_params_df = pd.DataFrame.from_dict(best_params, orient='index', columns=['p_L0', 'p_T', 'p_S', 'p_G'])\n",
    "best_params_df.reset_index(inplace=True)\n",
    "best_params_df.rename(columns={'index': 'skill'}, inplace=True)\n",
    "\n",
    "# Create the data directory if it doesn't exist\n",
    "os.makedirs('data', exist_ok=True)\n",
    "\n",
    "# Save the DataFrame to a CSV file\n",
    "best_params_df.to_csv('data/best_params.csv', index=False)"
   ]
  },
  {
   "cell_type": "markdown",
   "id": "da5ac6cd",
   "metadata": {},
   "source": [
    "## 6. Evaluate BKT on Test Set"
   ]
  },
  {
   "cell_type": "markdown",
   "id": "9f197781",
   "metadata": {},
   "source": [
    "In case we do not want to re-run the model, we can load the parameter dictionary saved in the previous step and use it to evaluate the model on the test set. This avoids the need to retrain the model and saves computational time. In addition, by saving the optimal parameters for each skill, a faster and more efficient evaluation of the model on the test set can be performed."
   ]
  },
  {
   "cell_type": "code",
   "execution_count": 7,
   "id": "a48ec1b5",
   "metadata": {},
   "outputs": [],
   "source": [
    "# We load the best parameters saved in CSV\n",
    "best_params_df = pd.read_csv('data/best_params.csv')\n",
    "best_params_df.set_index('skill', inplace=True)"
   ]
  },
  {
   "cell_type": "markdown",
   "id": "541a7c14",
   "metadata": {},
   "source": [
    "Using the best parameters per skill, measure overall and per‐skill accuracy."
   ]
  },
  {
   "cell_type": "code",
   "execution_count": 13,
   "id": "48be5a47",
   "metadata": {},
   "outputs": [
    {
     "name": "stdout",
     "output_type": "stream",
     "text": [
      "Overall test accuracy: 0.687\n"
     ]
    },
    {
     "data": {
      "text/html": [
       "<div>\n",
       "<style scoped>\n",
       "    .dataframe tbody tr th:only-of-type {\n",
       "        vertical-align: middle;\n",
       "    }\n",
       "\n",
       "    .dataframe tbody tr th {\n",
       "        vertical-align: top;\n",
       "    }\n",
       "\n",
       "    .dataframe thead th {\n",
       "        text-align: right;\n",
       "    }\n",
       "</style>\n",
       "<table border=\"1\" class=\"dataframe\">\n",
       "  <thead>\n",
       "    <tr style=\"text-align: right;\">\n",
       "      <th></th>\n",
       "      <th>skill</th>\n",
       "      <th>test_acc</th>\n",
       "    </tr>\n",
       "  </thead>\n",
       "  <tbody>\n",
       "    <tr>\n",
       "      <th>0</th>\n",
       "      <td>Networking &amp; API</td>\n",
       "      <td>0.748100</td>\n",
       "    </tr>\n",
       "    <tr>\n",
       "      <th>1</th>\n",
       "      <td>Shell</td>\n",
       "      <td>0.722456</td>\n",
       "    </tr>\n",
       "    <tr>\n",
       "      <th>2</th>\n",
       "      <td>Python</td>\n",
       "      <td>0.720620</td>\n",
       "    </tr>\n",
       "    <tr>\n",
       "      <th>3</th>\n",
       "      <td>Web &amp; Front-end</td>\n",
       "      <td>0.715236</td>\n",
       "    </tr>\n",
       "    <tr>\n",
       "      <th>4</th>\n",
       "      <td>Math &amp; Stats</td>\n",
       "      <td>0.703576</td>\n",
       "    </tr>\n",
       "    <tr>\n",
       "      <th>5</th>\n",
       "      <td>DevOps &amp; Tools</td>\n",
       "      <td>0.696452</td>\n",
       "    </tr>\n",
       "    <tr>\n",
       "      <th>6</th>\n",
       "      <td>C</td>\n",
       "      <td>0.670308</td>\n",
       "    </tr>\n",
       "    <tr>\n",
       "      <th>7</th>\n",
       "      <td>Javascript</td>\n",
       "      <td>0.654767</td>\n",
       "    </tr>\n",
       "    <tr>\n",
       "      <th>8</th>\n",
       "      <td>Programming &amp; Basics</td>\n",
       "      <td>0.635314</td>\n",
       "    </tr>\n",
       "    <tr>\n",
       "      <th>9</th>\n",
       "      <td>Databases &amp; ORM</td>\n",
       "      <td>0.631579</td>\n",
       "    </tr>\n",
       "  </tbody>\n",
       "</table>\n",
       "</div>"
      ],
      "text/plain": [
       "                  skill  test_acc\n",
       "0      Networking & API  0.748100\n",
       "1                 Shell  0.722456\n",
       "2                Python  0.720620\n",
       "3       Web & Front-end  0.715236\n",
       "4          Math & Stats  0.703576\n",
       "5        DevOps & Tools  0.696452\n",
       "6                     C  0.670308\n",
       "7            Javascript  0.654767\n",
       "8  Programming & Basics  0.635314\n",
       "9       Databases & ORM  0.631579"
      ]
     },
     "metadata": {},
     "output_type": "display_data"
    }
   ],
   "source": [
    "# Now we can evaluate the model on the test set using the best parameters\n",
    "results = []\n",
    "for skill, test_list in test_seqs.items():\n",
    "    # Check if the skill is in the best_params_df\n",
    "    if skill not in best_params_df.index:\n",
    "        continue\n",
    "    # Get the best parameters for the skill\n",
    "    params = best_params_df.loc[skill]\n",
    "    p_L0, p_T, p_S, p_G = params\n",
    "    total, hits = 0, 0\n",
    "    # Evaluate the model on the test set\n",
    "    for seq in test_list:\n",
    "        model = BayesianKnowledgeTracing(p_L0, p_T, p_S, p_G)\n",
    "        # Iterate over the sequence of responses and update the model\n",
    "        for correct in seq:\n",
    "            pred = model.predict_prob_correct() >= 0.5\n",
    "            hits += (pred == correct)\n",
    "            total += 1\n",
    "            model.update(correct)\n",
    "    results.append((skill, hits / total))\n",
    "# Create a DataFrame with the results sort by accuracy\n",
    "acc_df = pd.DataFrame(results, columns=['skill', 'test_acc']).sort_values('test_acc', ascending=False)\n",
    "# Calculate the overall accuracy weighted by the number of test sequences for each skill and the number of questions in each skill\n",
    "# This is done by multiplying the accuracy by the number of questions in the test set for each skill\n",
    "# and dividing by the total number of questions in the test set\n",
    "overall_acc = (acc_df['test_acc'] * [len(test_seqs[s]) for s in acc_df['skill']]).sum() / sum(len(test_seqs[s]) for s in acc_df['skill'])\n",
    "# Display the results\n",
    "print(f\"Overall test accuracy: {overall_acc:.3f}\")\n",
    "display(acc_df.reset_index(drop=True))\n"
   ]
  },
  {
   "cell_type": "markdown",
   "id": "cf641d89",
   "metadata": {},
   "source": [
    "It can be seen from the above output that the best value for *test_acc* varies between 63% and 75%, depending on the skill. This is an indication that the BKT model is not able to capture the complexity of the data, and that the performance of the model is limited. However, the fact that the model is able to learn patterns in the data and improve its performance in some cases is an indication that the model has potential for improvement."
   ]
  },
  {
   "cell_type": "markdown",
   "id": "db30328a",
   "metadata": {},
   "source": [
    "### AUC calculation\n",
    "\n",
    "The AUC (Area Under the Curve) is a commonly used metric to evaluate the performance of binary classifiers. It measures the ability of the model to distinguish between positive and negative classes.\n",
    "The AUC values are calculated using the true labels and the predicted probabilities of the positive class. The *roc_auc_score* function computes the AUC by integrating the area under the ROC curve, which is a plot of the true positive rate against the false positive rate at various threshold settings. The AUC provides a single value that summarizes the performance of the model across all possible classification thresholds.\n",
    "The AUC is a useful metric for evaluating the performance of the BKT model, as it provides a measure of the model's ability to distinguish between correct and incorrect answers. A higher AUC value indicates that the model is better at predicting correct answers, while a lower AUC value indicates that the model is less effective at distinguishing between correct and incorrect answers."
   ]
  },
  {
   "cell_type": "code",
   "execution_count": 17,
   "id": "83b2c9e6",
   "metadata": {},
   "outputs": [
    {
     "name": "stdout",
     "output_type": "stream",
     "text": [
      "Overall test AUC: 0.725\n"
     ]
    }
   ],
   "source": [
    "from sklearn.metrics import roc_auc_score\n",
    "\n",
    "all_y_true = []\n",
    "all_y_score = []\n",
    "\n",
    "# Evaluation by skill\n",
    "results = []\n",
    "for skill, test_list in test_seqs.items():\n",
    "    if skill not in best_params_df.index:\n",
    "        continue\n",
    "    p_L0, p_T, p_S, p_G = best_params_df.loc[skill]\n",
    "    total, hits = 0, 0\n",
    "    y_true_skill, y_score_skill = [], []\n",
    "\n",
    "    for seq in test_list:\n",
    "        model = BayesianKnowledgeTracing(p_L0, p_T, p_S, p_G)\n",
    "        for correct in seq:\n",
    "            prob = model.predict_prob_correct()\n",
    "            pred = (prob >= 0.5)\n",
    "            hits += (pred == correct)\n",
    "            total += 1\n",
    "\n",
    "            # Store for AUC\n",
    "            y_true_skill.append(correct)\n",
    "            y_score_skill.append(prob)\n",
    "\n",
    "            model.update(correct)\n",
    "\n",
    "    results.append((skill, hits / total))\n",
    "\n",
    "    # Add to general lists\n",
    "    all_y_true.extend(y_true_skill)\n",
    "    all_y_score.extend(y_score_skill)\n",
    "\n",
    "# DataFrame of results by skill\n",
    "acc_df = pd.DataFrame(results, columns=['skill', 'test_acc']).sort_values('test_acc', ascending=False)\n",
    "\n",
    "# Weighted overall Accuracy\n",
    "overall_acc = (acc_df['test_acc'] * [len(test_seqs[s]) for s in acc_df['skill']]).sum() / sum(len(test_seqs[s]) for s in acc_df['skill'])\n",
    "\n",
    "# Overall AUC\n",
    "overall_auc = roc_auc_score(all_y_true, all_y_score)\n",
    "\n",
    "# Show\n",
    "print(f\"Overall test AUC: {overall_auc:.3f}\")\n"
   ]
  },
  {
   "cell_type": "markdown",
   "id": "dc1bc423",
   "metadata": {},
   "source": [
    "It can be seen that the AUC value is 0.725, indicating that the model has moderate performance in predicting correct and incorrect responses. An AUC value of 0.5 indicates random performance, while a value of 1 indicates perfect performance. Therefore, the model has acceptable performance, but there is room for improvement."
   ]
  },
  {
   "cell_type": "markdown",
   "id": "41f7f34e",
   "metadata": {},
   "source": [
    "Several modifications to the BKT model were attempted, in order to improve its performance, but either the model failed to outperform the original model or the improvement was so slight that it did not merit code compejization.<br>\n",
    "Some of the modifications that were attempted include:\n",
    "- Optimization with EM Algorithm - EM algorithm was implemented to estimate parameters instead of grid search (worse results).\n",
    "- Adjust decision threshold {predict >= 0.5} - explored different thresholds in the validation set (val_seqs[skill]) and saved the one that maximizes accuracy (slightly better results on some skills, more complex code)\n",
    "- Eliminate sequences with very few interactions (≤ 4 queries) as they are noisy and penalize accuracy (same results)."
   ]
  },
  {
   "cell_type": "markdown",
   "id": "4995620e",
   "metadata": {},
   "source": [
    "We chose to use the original BKT model because it is a simple and easy-to-interpret model, which allows for a better understanding of the results and their application in practice. In addition, the original BKT model has been shown to be effective in a variety of contexts and has been widely used in the literature. <br>\n",
    "The classical BKT assumes:\n",
    "- Same p_T for all transitions (no forgetting).\n",
    "- No \"forgetting\" parameter.\n",
    "- Slips and guesses are global by skill.<br>\n",
    "\n",
    "For another instance of the project, I will consider testing extensions of the BKT model that iclude the following:\n",
    "- **Forgetting**: add a p_F parameter that models knowledge loss between items.\n",
    "- **Parameters per question**: instead of a single p_G/p_S per skill, update p_G_q, p_S_q in each question.\n",
    "- **Contextual BKT**: incorporate response time (duration_s) as covariate modulating slip/guess.\n",
    "- **Difficulty**: introduce question difficulty features by modifying the pre-prediction p_L value in proportion to that difficulty.\n"
   ]
  },
  {
   "cell_type": "markdown",
   "id": "205cabe6",
   "metadata": {},
   "source": [
    "## 7. Visualize Accuracy by Skill"
   ]
  },
  {
   "cell_type": "markdown",
   "id": "57c55696",
   "metadata": {},
   "source": [
    "Now we can visualize the accuracy of the model by skill, which allows us to identify patterns in the performance of the model.<br>\n",
    "The visualization of the accuracy by skill is useful to understand how well the model is able to learn and predict the responses of the students for each skill, and to identify areas for improvement in the model."
   ]
  },
  {
   "cell_type": "code",
   "execution_count": 12,
   "id": "74ae650d",
   "metadata": {},
   "outputs": [
    {
     "data": {
      "image/png": "[encoded data removed]",
      "text/plain": [
       "<Figure size 800x600 with 1 Axes>"
      ]
     },
     "metadata": {},
     "output_type": "display_data"
    }
   ],
   "source": [
    "# Plotting the test accuracy per skill\n",
    "plt.figure(figsize=(8,6))\n",
    "sns.barplot(x='test_acc', y='skill', data=acc_df)\n",
    "plt.xlabel(\"Test Accuracy\", fontsize=14, color=\"Green\")\n",
    "plt.ylabel(\"Skill\", fontsize=14, color=\"Green\")\n",
    "plt.title(\"BKT Test Accuracy per Skill\", fontsize=16, fontweight=\"bold\", color=\"Green\")\n",
    "plt.xlim(0,1)\n",
    "plt.tight_layout()\n",
    "\n",
    "# Create the images directory if it doesn't exist\n",
    "os.makedirs('images', exist_ok=True)\n",
    "\n",
    "# Save the plot as an image\n",
    "plt.savefig(\"images/bkt_test_accuracy_per_skill.png\", dpi=300, bbox_inches='tight')\n",
    "plt.show()"
   ]
  },
  {
   "cell_type": "markdown",
   "id": "36cb1d83",
   "metadata": {},
   "source": [
    "It can be seen from the previous figure that the accuracy of the BKT model does not vary so much between different skills, indicating that the model is able to learn patterns in the data and improve its performance in some cases.<br>\n",
    "However, the accuracy of the model is limited and fails to capture the complexity of the data in its entirety. This suggests that the BKT model has potential for improvement, but also that other alternatives need to be explored to address the problem of predicting correct answers in the context of education."
   ]
  },
  {
   "cell_type": "markdown",
   "id": "9abc9766",
   "metadata": {},
   "source": [
    "## 8. Example Learning Curve for a Single Skill"
   ]
  },
  {
   "cell_type": "markdown",
   "id": "976d4fb2",
   "metadata": {},
   "source": [
    "The following is an example of the evolution of the probability of knowledge (p_L) across opportunities for a representative student and ability."
   ]
  },
  {
   "cell_type": "code",
   "execution_count": 11,
   "id": "cc30a692",
   "metadata": {},
   "outputs": [
    {
     "data": {
      "image/png": "[encoded data removed]",
      "text/plain": [
       "<Figure size 640x480 with 1 Axes>"
      ]
     },
     "metadata": {},
     "output_type": "display_data"
    }
   ],
   "source": [
    "# First, we determine the values of p_L0, p_T, p_S, and p_G for the first skill in the DataFrame\n",
    "example_skill = acc_df.iloc[0]['skill']\n",
    "# Then, we create a BayesianKnowledgeTracing model with the best parameters for that skill\n",
    "example_seq = train_seqs[example_skill][6]\n",
    "model = BayesianKnowledgeTracing(*best_params_df.loc[example_skill])\n",
    "probs = []\n",
    "for correct in example_seq:\n",
    "    probs.append(model.p_L)\n",
    "    model.update(correct)\n",
    "\n",
    "# Now we plot the learning curve\n",
    "plt.plot(probs, marker='o')\n",
    "plt.xlabel(\"Opportunity #\", fontsize=14, color=\"Green\")\n",
    "plt.ylabel(\"P(known)\", fontsize=14, color=\"Green\")\n",
    "plt.title(f\"Learning Curve for skill '{example_skill}'\", fontsize=16, fontweight=\"bold\", color=\"Green\")\n",
    "plt.grid(True)\n",
    "\n",
    "# Save the plot as an image\n",
    "plt.savefig(f\"images/learning_curve_{example_skill}.png\", dpi=300, bbox_inches='tight')\n",
    "\n",
    "plt.show()\n"
   ]
  },
  {
   "cell_type": "markdown",
   "id": "9eb54248",
   "metadata": {},
   "source": [
    "In this case, it is observed that the probability of knowledge increases as the student answers the questions correctly, indicating that the model is learning and improving its performance."
   ]
  },
  {
   "cell_type": "markdown",
   "id": "b82d546b",
   "metadata": {},
   "source": [
    "## 9. Conclusion"
   ]
  },
  {
   "cell_type": "markdown",
   "id": "26eb3677",
   "metadata": {},
   "source": [
    "In this notebook we have built a fully interpretable Bayesian Knowledge Tracing (BKT) model from scratch, tuned its four core parameters (**p_L0**, **p_T**, **p_S**, **p_G**) via a per-skill grid-search, and evaluated its performance across ten distinct skill categories.\n",
    "Below, we summarize the findings and limitations of the model, as well as the steps to be taken for future improvements.\n",
    "\n",
    "**Key findings:**\n",
    "- **Per-skill accuracy** on the test set ranges from **0.63** (Programming & Basics) to **0.75** (Networking & API), with an **overall accuracy of ~0.69**.\n",
    "- **AUC** of **0.725** indicates moderate performance in predicting correct and incorrect responses.\n",
    "- **Learning curves** confirm that BKT captures a rising mastery probability across opportunities, but plateaus quickly for certain skills—suggesting a need for additional temporal features (e.g., response time).\n",
    "- **Parameter estimates** show that the model is able to learn patterns in the data and improve its performance in some cases, but the performance of the model is limited.\n",
    "\n",
    "**Limitations:**\n",
    "1. **No forgetting:** The classic BKT assumption of no knowledge decay may not hold in longer sequences; incorporating a **forgetting** parameter (_p_F_) could better model real student behavior.  \n",
    "2. **Global slips/guesses:** We model _p_S_ and _p_G_ per skill; however, per-question or contextualized slip/guess rates (e.g., difficulty-adjusted) might improve fit.  \n",
    "3. **Markovian assumptions:** BKT assumes independence of responses given the current state, which may not capture the sequential dependencies in student learning. This could be addressed with more complex models like DKT or SAKT.\n",
    "4. **Limited expressiveness:** BKT is a simple model that may not capture the complexity of the data, and its performance is limited. This suggests that other alternatives need to be explored to address the problem of predicting correct answers in the context of education.\n",
    "\n",
    "**Next steps:**\n",
    "- **Extend BKT** with a forgetting parameter and/or EM-based estimation to refine parameter learning.  \n",
    "- **Compare against deep models**: Implement DKT, SAKT, and AKT to assess whether sequential neural architectures can capture nuances beyond BKT’s Markovian assumptions.  \n",
    "- **Enrich features**: Add covariates such as *duration_s*, item difficulty embeddings, or student-level priors to boost predictive performance.\n",
    "\n",
    "Overall, while BKT provides a solid, interpretable baseline (and remains competitive in some skills), advancing to more expressive models will likely be necessary to fully capture the complexity of Holberton students’ learning trajectories."
   ]
  }
 ],
 "metadata": {
  "kernelspec": {
   "display_name": "Python 3",
   "language": "python",
   "name": "python3"
  },
  "language_info": {
   "codemirror_mode": {
    "name": "ipython",
    "version": 3
   },
   "file_extension": ".py",
   "mimetype": "text/x-python",
   "name": "python",
   "nbconvert_exporter": "python",
   "pygments_lexer": "ipython3",
   "version": "3.11.0"
  }
 },
 "nbformat": 4,
 "nbformat_minor": 5
}
